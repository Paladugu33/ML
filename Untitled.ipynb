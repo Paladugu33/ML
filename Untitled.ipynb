{
 "cells": [
  {
   "cell_type": "code",
   "execution_count": 22,
   "metadata": {},
   "outputs": [
    {
     "name": "stdout",
     "output_type": "stream",
     "text": [
      "[[ 10.   0.]\n",
      " [  0.  10.]]\n",
      "[ 0.33333333  0.33333333]\n"
     ]
    }
   ],
   "source": [
    "import numpy as np\n",
    "a = np.array([[2,3],[3,2]])\n",
    "b= np.array([5,5])\n",
    "print (10*np.eye(2))\n",
    "print (np.linalg.solve(10*np.eye(2)+a,b))"
   ]
  },
  {
   "cell_type": "code",
   "execution_count": 21,
   "metadata": {},
   "outputs": [
    {
     "name": "stdout",
     "output_type": "stream",
     "text": [
      "[  0.   1.   2.   3.   4.   5.   6.   7.   8.   9.  10.]\n"
     ]
    },
    {
     "data": {
      "image/png": "[encoded data removed]",
      "text/plain": [
       "<matplotlib.figure.Figure at 0x7fdb885dc5f8>"
      ]
     },
     "metadata": {},
     "output_type": "display_data"
    },
    {
     "name": "stdout",
     "output_type": "stream",
     "text": [
      "[array([ 1.,  1.,  1.,  1.,  1.,  1.,  1.,  1.,  1.,  1.,  1.]), array([  0.,   1.,   2.,   3.,   4.,   5.,   6.,   7.,   8.,   9.,  10.]), array([   0.,    1.,    4.,    9.,   16.,   25.,   36.,   49.,   64.,\n",
      "         81.,  100.]), array([    0.,     1.,     8.,    27.,    64.,   125.,   216.,   343.,\n",
      "         512.,   729.,  1000.]), array([  0.00000000e+00,   1.00000000e+00,   1.60000000e+01,\n",
      "         8.10000000e+01,   2.56000000e+02,   6.25000000e+02,\n",
      "         1.29600000e+03,   2.40100000e+03,   4.09600000e+03,\n",
      "         6.56100000e+03,   1.00000000e+04]), array([  0.00000000e+00,   1.00000000e+00,   3.20000000e+01,\n",
      "         2.43000000e+02,   1.02400000e+03,   3.12500000e+03,\n",
      "         7.77600000e+03,   1.68070000e+04,   3.27680000e+04,\n",
      "         5.90490000e+04,   1.00000000e+05])]\n"
     ]
    }
   ],
   "source": [
    "from __future__ import print_function, division\n",
    "from builtins import range\n",
    "# Note: you may need to update your version of future\n",
    "# sudo pip install -U future\n",
    "\n",
    "\n",
    "import numpy as np\n",
    "import matplotlib.pyplot as plt\n",
    "\n",
    "\n",
    "def make_poly(X, deg):\n",
    "    n = len(X)\n",
    "   \n",
    "    data = [np.ones(n)]\n",
    "    for d in range(deg):\n",
    "        data.append(X**(d+1))\n",
    "   \n",
    "    print (data)\n",
    "if __name__ == \"__main__\":\n",
    "    # make up some data and plot it\n",
    "    N = 10\n",
    "    X = np.linspace(0, 10, 11)\n",
    "    Y = np.sin(X)\n",
    "    print(X)\n",
    "\n",
    "    plt.plot(X, Y)\n",
    "    plt.show()\n",
    "    make_poly(X,5)\n",
    "    "
   ]
  },
  {
   "cell_type": "code",
   "execution_count": 64,
   "metadata": {},
   "outputs": [
    {
     "name": "stdout",
     "output_type": "stream",
     "text": [
      "<function get_binary_data at 0x7fdb7c55aea0>\n"
     ]
    }
   ],
   "source": [
    "import numpy as np\n",
    "import pandas as pd\n",
    "\n",
    "def get_data():\n",
    "    df = pd.read_csv('/home/hmohan/Desktop/ML/ecommerce_data.csv')\n",
    "    data = df.as_matrix()\n",
    "    \n",
    "    X=data[:,:-1]\n",
    "    Y = data[:,-1]\n",
    "    X[:,1] = X[:,1]-np.mean(X[:,1])/np.std(X[:,1])\n",
    "    X[:,2] = X[:,2]-np.mean(X[:,2])/np.std(X[:,2])\n",
    "    N,D = X.shape\n",
    "    X2 = np.zeros((N,D+3))\n",
    "    X2[:,0:(D-1)] = X[:,0:(D-1)]\n",
    "    for n in range(N):\n",
    "        t = int(X[n,D-1])\n",
    "        X2[n,t+D-1]=1\n",
    "    Z = np.zeros((N,4))\n",
    "    Z[np.arange(N),X[:,D-1].astype(np.int32)]=1\n",
    "    assert (np.abs(X2[:,-4:]-Z).sum() < 10e-10)\n",
    "    return X2,Y\n",
    "def get_binary_data():\n",
    "    X,Y = get_data()\n",
    "    X2 = X[Y<=1]\n",
    "    Y2 = Y[Y<=1]\n",
    "    return X2,Y2\n",
    "print (get_binary_data)"
   ]
  },
  {
   "cell_type": "code",
   "execution_count": 65,
   "metadata": {},
   "outputs": [
    {
     "data": {
      "text/plain": [
       "(398,)"
      ]
     },
     "execution_count": 65,
     "metadata": {},
     "output_type": "execute_result"
    }
   ],
   "source": [
    "import numpy as np\n",
    "X,Y = get_binary_data()\n",
    "Y.shape"
   ]
  },
  {
   "cell_type": "code",
   "execution_count": null,
   "metadata": {
    "collapsed": true
   },
   "outputs": [],
   "source": []
  },
  {
   "cell_type": "code",
   "execution_count": null,
   "metadata": {
    "collapsed": true
   },
   "outputs": [],
   "source": []
  }
 ],
 "metadata": {
  "kernelspec": {
   "display_name": "Python 3",
   "language": "python",
   "name": "python3"
  },
  "language_info": {
   "codemirror_mode": {
    "name": "ipython",
    "version": 3
   },
   "file_extension": ".py",
   "mimetype": "text/x-python",
   "name": "python",
   "nbconvert_exporter": "python",
   "pygments_lexer": "ipython3",
   "version": "3.6.3"
  }
 },
 "nbformat": 4,
 "nbformat_minor": 2
}
