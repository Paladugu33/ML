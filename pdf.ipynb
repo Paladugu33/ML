{
 "cells": [
  {
   "cell_type": "code",
   "execution_count": 82,
   "metadata": {},
   "outputs": [
    {
     "name": "stdout",
     "output_type": "stream",
     "text": [
      "[ 0.23079948  0.48860251  0.23079948]\n",
      "[ 0.23079948  0.48860251  0.23079948]\n",
      "1.5020370483398438e-05\n"
     ]
    }
   ],
   "source": [
    "import numpy as np\n",
    "from scipy.stats import norm\n",
    "import time\n",
    "a=np.array([1,2,3])\n",
    "v=np.var(a)\n",
    "s=np.std(a)\n",
    "m=np.mean(a)\n",
    "start = time.time()\n",
    "print ((1/(np.sqrt(2*np.pi*v)))*(np.exp((-(a-m)**2)/(2*v))))\n",
    "t1= (time.time()-start)\n",
    "start = time.time()\n",
    "print (norm.pdf(a,loc=m,scale=s))\n",
    "t2 =(time.time()-start)\n",
    "print (t1-t2)"
   ]
  },
  {
   "cell_type": "code",
   "execution_count": 8,
   "metadata": {},
   "outputs": [
    {
     "name": "stdout",
     "output_type": "stream",
     "text": [
      "[-1.46620598 -0.71620598 -1.46620598]\n",
      "[-1.46620598 -0.71620598 -1.46620598]\n",
      "[-1.46620598 -0.71620598 -1.46620598]\n",
      "[-1.46620598 -0.71620598 -1.46620598]\n"
     ]
    }
   ],
   "source": [
    "import numpy as np\n",
    "from scipy.stats import norm\n",
    "import time\n",
    "a=np.array([1,2,3])\n",
    "v=np.var(a)\n",
    "s=np.std(a)\n",
    "m=np.mean(a)\n",
    "print (np.add(((-1/2)*np.log(2*np.pi*v)),((-1/2)*((a-m)**2)/v)))\n",
    "print((-1/2)*np.add(np.log(2*np.pi*v),((a-m)**2/v)))\n",
    "print (norm.logpdf(a,loc=m,scale=s))\n",
    "print (np.log(norm.pdf(a,loc=m,scale=s)))\n"
   ]
  },
  {
   "cell_type": "code",
   "execution_count": 6,
   "metadata": {},
   "outputs": [
    {
     "name": "stdout",
     "output_type": "stream",
     "text": [
      "[ 0.84134475  0.97724987  0.9986501 ]\n",
      "[-0.17275378 -0.02301291 -0.00135081]\n"
     ]
    }
   ],
   "source": [
    "import numpy as np\n",
    "from scipy.stats import norm\n",
    "import time\n",
    "a=np.array([1,2,3])\n",
    "v=np.var(a)\n",
    "s=np.std(a)\n",
    "m=np.mean(a)\n",
    "print (norm.cdf(a))\n",
    "print (norm.logcdf(a))"
   ]
  },
  {
   "cell_type": "code",
   "execution_count": 3,
   "metadata": {},
   "outputs": [
    {
     "data": {
      "image/png": "[encoded data removed]",
      "text/plain": [
       "<matplotlib.figure.Figure at 0x7f41f069ce80>"
      ]
     },
     "metadata": {},
     "output_type": "display_data"
    }
   ],
   "source": [
    "import matplotlib.pyplot as plt\n",
    "import numpy as np\n",
    "x=np.random.rand(10000)\n",
    "plt.hist(x,bins=100)\n",
    "plt.show()"
   ]
  },
  {
   "cell_type": "code",
   "execution_count": null,
   "metadata": {
    "collapsed": true
   },
   "outputs": [],
   "source": []
  }
 ],
 "metadata": {
  "kernelspec": {
   "display_name": "Python 3",
   "language": "python",
   "name": "python3"
  },
  "language_info": {
   "codemirror_mode": {
    "name": "ipython",
    "version": 3
   },
   "file_extension": ".py",
   "mimetype": "text/x-python",
   "name": "python",
   "nbconvert_exporter": "python",
   "pygments_lexer": "ipython3",
   "version": "3.6.3"
  }
 },
 "nbformat": 4,
 "nbformat_minor": 2
}
