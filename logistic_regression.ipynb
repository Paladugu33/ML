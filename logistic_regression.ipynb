{
 "cells": [
  {
   "cell_type": "code",
   "execution_count": 21,
   "metadata": {},
   "outputs": [
    {
     "name": "stdout",
     "output_type": "stream",
     "text": [
      "[ 0.66058101  0.18016825  0.43123146  0.38037474  0.3592876   0.34630502\n",
      "  0.43691066  0.51610472  0.51694004  0.26980402  0.22544678  0.50282857\n",
      "  0.41995867  0.23274557  0.32657882  0.29319571  0.52104615  0.20477351\n",
      "  0.36352515  0.57495752  0.56270296  0.54061393  0.21174322  0.46604949\n",
      "  0.55914545  0.43842678  0.34076632  0.6133428   0.74456869  0.24413309\n",
      "  0.51994276  0.40421486  0.56185615  0.48333657  0.36938788  0.43295245\n",
      "  0.23567865  0.39864611  0.44564846  0.30871438  0.52821235  0.66495846\n",
      "  0.32832041  0.63876222  0.77776734  0.63268721  0.47696678  0.66713717\n",
      "  0.49342576  0.4353894   0.61004441  0.44276196  0.23849655  0.36817441\n",
      "  0.50703963  0.2855409   0.42848588  0.30106318  0.4939069   0.61561223\n",
      "  0.25001008  0.56518842  0.33662781  0.3715328   0.40546487  0.39940032\n",
      "  0.36123121  0.53978087  0.26469412  0.56021883  0.57714874  0.64399596\n",
      "  0.2151412   0.48473286  0.52498765  0.30797726  0.41328262  0.7364482\n",
      "  0.43534103  0.52897626  0.22690101  0.34782416  0.3048418   0.32848045\n",
      "  0.71554115  0.53625648  0.41390525  0.34212231  0.55576635  0.46201292\n",
      "  0.46746105  0.29741607  0.48458552  0.34404982  0.38079718  0.47990227\n",
      "  0.53163895  0.38479179  0.38324655  0.32628261]\n"
     ]
    }
   ],
   "source": [
    "import numpy as np\n",
    "import matplotlib.pyplot as plt\n",
    "\n",
    "N=100\n",
    "D=2\n",
    "\n",
    "X=np.random.randn(N,D)\n",
    "ones = np.array([[1]*N]).T\n",
    "XD = np.hstack((ones,X))\n",
    "w= np.random.random(D+1)\n",
    "z=XD.dot(w)\n",
    "\n",
    "def sigmod(z):\n",
    "    return 1/(1+np.exp(z))\n",
    "print (sigmod(z))\n",
    "\n"
   ]
  },
  {
   "cell_type": "code",
   "execution_count": 53,
   "metadata": {
    "collapsed": true
   },
   "outputs": [],
   "source": [
    "import numpy as np\n",
    "import pandas as pd\n",
    "\n",
    "def get_data():\n",
    "    df = pd.read_csv('/home/hmohan/Desktop/ML/ecommerce_data.csv')\n",
    "    data = df.as_matrix()\n",
    "    \n",
    "    X=data[:,:-1]\n",
    "    Y = data[:,-1]\n",
    "    X[:,1] = X[:,1]-np.mean(X[:,1])/np.std(X[:,1])\n",
    "    X[:,2] = X[:,2]-np.mean(X[:,2])/np.std(X[:,2])\n",
    "    N,D = X.shape\n",
    "    X2 = np.zeros((N,D+3))\n",
    "    X2[:,0:(D-1)] = X[:,0:(D-1)]\n",
    "    for n in range(N):\n",
    "        t = int(X[n,D-1])\n",
    "        X2[n,t+D-1]=1\n",
    "    Z = np.zeros((N,4))\n",
    "    Z[np.arange(N),X[:,D-1].astype(np.int32)]=1\n",
    "    assert (np.abs(X2[:,-4:]-Z).sum() < 10e-10)\n",
    "    return X2,Y\n",
    "def get_binary_data():\n",
    "    X,Y = get_data()\n",
    "    X2 = X[Y<=1]\n",
    "    Y2 = Y[Y<=1]\n",
    "    return X2,Y2\n"
   ]
  },
  {
   "cell_type": "code",
   "execution_count": 56,
   "metadata": {},
   "outputs": [
    {
     "data": {
      "text/plain": [
       "8"
      ]
     },
     "execution_count": 56,
     "metadata": {},
     "output_type": "execute_result"
    }
   ],
   "source": [
    "import numpy as np\n",
    "X,Y = get_binary_data()\n",
    "X.shape[1]"
   ]
  },
  {
   "cell_type": "code",
   "execution_count": null,
   "metadata": {
    "collapsed": true
   },
   "outputs": [],
   "source": []
  },
  {
   "cell_type": "code",
   "execution_count": 1,
   "metadata": {},
   "outputs": [
    {
     "name": "stdout",
     "output_type": "stream",
     "text": [
      "56.0354675889\n",
      "2.90831220809\n"
     ]
    }
   ],
   "source": [
    "## cross error entrophy \n",
    "\n",
    "import numpy as np\n",
    "\n",
    "N = 100\n",
    "D = 2\n",
    "\n",
    "\n",
    "X = np.random.randn(N,D)\n",
    "\n",
    "# center the first 50 points at (-2,-2)\n",
    "X[:50,:] = X[:50,:] - 2*np.ones((50,D))\n",
    "\n",
    "# center the last 50 points at (2, 2)\n",
    "X[50:,:] = X[50:,:] + 2*np.ones((50,D))\n",
    "\n",
    "# labels: first 50 are 0, last 50 are 1\n",
    "T = np.array([0]*50 + [1]*50)\n",
    "\n",
    "# add a column of ones\n",
    "# ones = np.array([[1]*N]).T # old\n",
    "ones = np.ones((N, 1))\n",
    "Xb = np.concatenate((ones, X), axis=1)\n",
    "\n",
    "# randomly initialize the weights\n",
    "w = np.random.randn(D + 1)\n",
    "\n",
    "# calculate the model output\n",
    "z = Xb.dot(w)\n",
    "\n",
    "def sigmoid(z):\n",
    "    return 1/(1 + np.exp(-z))\n",
    "\n",
    "Y = sigmoid(z)\n",
    "\n",
    "# calculate the cross-entropy error\n",
    "def cross_entropy(T, Y):\n",
    "    E = 0\n",
    "    for i in range(len(T)):\n",
    "        if T[i] == 1:\n",
    "            E -= np.log(Y[i])\n",
    "        else:\n",
    "            E -= np.log(1 - Y[i])\n",
    "    return E\n",
    "\n",
    "print(cross_entropy(T, Y))\n",
    "\n",
    "# try it with our closed-form solution\n",
    "w = np.array([0, 4, 4])\n",
    "\n",
    "# calculate the model output\n",
    "z = Xb.dot(w)\n",
    "Y = sigmoid(z)\n",
    "\n",
    "# calculate the cross-entropy error\n",
    "print(cross_entropy(T, Y))"
   ]
  },
  {
   "cell_type": "code",
   "execution_count": 18,
   "metadata": {},
   "outputs": [
    {
     "data": {
      "image/png": "[encoded data removed]",
      "text/plain": [
       "<matplotlib.figure.Figure at 0x7fdaa7706fd0>"
      ]
     },
     "metadata": {},
     "output_type": "display_data"
    }
   ],
   "source": [
    "## visualization\n",
    "\n",
    "import numpy as np\n",
    "import matplotlib.pyplot as plt\n",
    "\n",
    "N = 100\n",
    "D = 2\n",
    "\n",
    "\n",
    "X = np.random.randn(N,D)\n",
    "\n",
    "# center the first 50 points at (-2,-2)\n",
    "X[:50,:] = X[:50,:] - 2*np.ones((50,D))\n",
    "\n",
    "# center the last 50 points at (2, 2)\n",
    "X[50:,:] = X[50:,:] + 2*np.ones((50,D))\n",
    "\n",
    "# labels: first 50 are 0, last 50 are 1\n",
    "T = np.array([0]*50 + [1]*50)\n",
    "\n",
    "# add a column of ones\n",
    "# ones = np.array([[1]*N]).T\n",
    "ones = np.ones((N, 1))\n",
    "Xb = np.concatenate((ones, X), axis=1)\n",
    "\n",
    "def sigmoid(z):\n",
    "    return 1/(1 + np.exp(-z))\n",
    "\n",
    "# get the closed-form solution\n",
    "w = np.array([0, 4, 4])\n",
    "\n",
    "# calculate the model output\n",
    "z = Xb.dot(w)\n",
    "Y = sigmoid(z)\n",
    "\n",
    "plt.scatter(X[:,0], X[:,1],c=T,s=100,alpha=0.5)\n",
    "\n",
    "x_axis = np.linspace(-6, 6, 100)\n",
    "y_axis = -x_axis\n",
    "plt.plot(x_axis, y_axis)\n",
    "plt.show()"
   ]
  },
  {
   "cell_type": "code",
   "execution_count": null,
   "metadata": {
    "collapsed": true
   },
   "outputs": [],
   "source": []
  },
  {
   "cell_type": "code",
   "execution_count": null,
   "metadata": {
    "collapsed": true
   },
   "outputs": [],
   "source": []
  },
  {
   "cell_type": "code",
   "execution_count": null,
   "metadata": {
    "collapsed": true
   },
   "outputs": [],
   "source": []
  }
 ],
 "metadata": {
  "kernelspec": {
   "display_name": "Python 3",
   "language": "python",
   "name": "python3"
  },
  "language_info": {
   "codemirror_mode": {
    "name": "ipython",
    "version": 3
   },
   "file_extension": ".py",
   "mimetype": "text/x-python",
   "name": "python",
   "nbconvert_exporter": "python",
   "pygments_lexer": "ipython3",
   "version": "3.6.3"
  }
 },
 "nbformat": 4,
 "nbformat_minor": 2
}
